{
 "cells": [
  {
   "cell_type": "markdown",
   "metadata": {},
   "source": [
    "# <a id='toc1_'></a>[How the sing_curr_conv works](#toc0_)\n",
    "\n",
    "This document demonstrates how the **sing_curr_conv** (SCC)  converts the original ledger to the equivalent one in different scenarios. \n",
    "For the demonstration purposes this document is created in a form of the Jupyter note book, however the **sing_curr_conv**  can provide the same functionality also from the command line or as a plugin (refer to the [sing_curr_conv.md](sing_curr_conv.md) for more information). \n",
    "\n",
    "You can read this as a document and/or interactively experiment by changing parameters"
   ]
  },
  {
   "cell_type": "markdown",
   "metadata": {},
   "source": [
    "**Table of contents**<a id='toc0_'></a>    \n",
    "- [How the sing_curr_conv works](#toc1_)    \n",
    "  - [Initial notebook setup](#toc1_1_)    \n",
    "    - [Imports](#toc1_1_1_)    \n",
    "    - [Some helper functions](#toc1_1_2_)    \n",
    "  - [How the sing_curr_conv  works](#toc1_2_)    \n",
    "    - [Simple case of price change](#toc1_2_1_)    \n",
    "    - [Currency exchange at not market price](#toc1_2_2_)    \n",
    "    - [Tracking at cost, selling with gain](#toc1_2_3_)    \n",
    "    - [Multiple Balance Sheet accounts. Usage of the \"group_p_l_acc_tr\" option.](#toc1_2_4_)    \n",
    "    - [Unconvertable commodity](#toc1_2_5_)    \n",
    "      - [Usage of the \"start_date\" and \"end_date\" options](#toc1_2_5_1_)    \n",
    "    - [Small value Balance error correction posting](#toc1_2_6_)    \n",
    "\n",
    "<!-- vscode-jupyter-toc-config\n",
    "\tnumbering=false\n",
    "\tanchor=true\n",
    "\tflat=false\n",
    "\tminLevel=1\n",
    "\tmaxLevel=6\n",
    "\t/vscode-jupyter-toc-config -->\n",
    "<!-- THIS CELL WILL BE REPLACED ON TOC UPDATE. DO NOT WRITE YOUR TEXT IN THIS CELL -->"
   ]
  },
  {
   "cell_type": "markdown",
   "metadata": {},
   "source": [
    "## <a id='toc1_1_'></a>[Initial notebook setup](#toc0_)\n",
    "This section contains some code, needed for initial notebook setup and is not related to the functionality of the SCC"
   ]
  },
  {
   "cell_type": "markdown",
   "metadata": {},
   "source": [
    "### <a id='toc1_1_1_'></a>[Imports](#toc0_)"
   ]
  },
  {
   "cell_type": "code",
   "execution_count": 1,
   "metadata": {},
   "outputs": [],
   "source": [
    "import textwrap\n",
    "import traceback\n",
    "\n",
    "from beancount.loader import load_string\n",
    "from beancount.parser.printer import print_entries\n",
    "\n",
    "from evbeantools.sing_curr_conv import get_equiv_sing_curr_entries, print_errors_to_string\n",
    "\n",
    "from evbeantools.printer_rich import display_entries"
   ]
  },
  {
   "cell_type": "markdown",
   "metadata": {},
   "source": [
    "### <a id='toc1_1_2_'></a>[Some helper functions](#toc0_)\n",
    "Let us define some functions, which we will use during demonstration"
   ]
  },
  {
   "cell_type": "code",
   "execution_count": 2,
   "metadata": {},
   "outputs": [],
   "source": [
    "def display_scc_converted(ledger:str, **kwargs):\n",
    "    \"\"\"\n",
    "    Converts the leger to a single currency and returns the HTML rich-formatted text of the converted ledger, whapped to \n",
    "    IPython displayable format.\n",
    "    Args:\n",
    "        ledger (str): beancount ledger file.\n",
    "        **kwargs: Keyword arguments to be passed to the get_equiv_sing_curr_entries function.\n",
    "    \"\"\"\n",
    "    ledger = textwrap.dedent(ledger)\n",
    "    \n",
    "    entries, errors, options = load_string(ledger)\n",
    "    \n",
    "    if len(errors) > 0:\n",
    "        raise RuntimeError(f\"Errors in the original ledger file\\n {print_errors_to_string(errors)}\")\n",
    "    \n",
    "    try:\n",
    "        entries_eqv, errors_eqv, options_eqv = get_equiv_sing_curr_entries(entries, options, **kwargs)\n",
    "    except Exception as e:\n",
    "        print(f\"An exception caught, while running the 'get_equiv_sing_curr_entries':\\n {e}\")\n",
    "        return\n",
    "    \n",
    "    if len(errors_eqv) > 0:\n",
    "        raise RuntimeError(\"Errors in the converted ledger file\")\n",
    "    \n",
    "    return(display_entries(entries_eqv))\n",
    "\n",
    "def check_for_errors(ledger:str):\n",
    "    \"\"\"\n",
    "    Loads the ledger and checks for errors. If there are errors, prints them to the console.\n",
    "    If there are no errors, prints \"No errors in the ledger file\".\n",
    "    Args:\n",
    "        ledger (str): beancount leger file.\n",
    "    \"\"\"\n",
    "    ledger = textwrap.dedent(ledger)\n",
    "    \n",
    "    entries, errors, options = load_string(ledger)\n",
    "    \n",
    "    if len(errors) > 0:\n",
    "        print(f\"There are errors!:\\n{print_errors_to_string(errors)}\")\n",
    "    else:\n",
    "        print(\"No errors in the ledger file\")"
   ]
  },
  {
   "cell_type": "markdown",
   "metadata": {},
   "source": [
    "## <a id='toc1_2_'></a>[How the sing_curr_conv  works](#toc0_)"
   ]
  },
  {
   "cell_type": "markdown",
   "metadata": {},
   "source": [
    "### <a id='toc1_2_1_'></a>[Simple case of price change](#toc0_)"
   ]
  },
  {
   "cell_type": "markdown",
   "metadata": {},
   "source": [
    "Let us explore the most basic case.\n",
    "We have 100 of AAA commodity in the bank account, but we want to report everything in the BBB commodity.\n",
    "\n",
    "On the 1 February 2020  the exchange rate of the AAA to BBB changes from 1.0 to 2.0 "
   ]
  },
  {
   "cell_type": "code",
   "execution_count": 3,
   "metadata": {},
   "outputs": [],
   "source": [
    "ledger_simple_case = \"\"\"\n",
    "\n",
    "option \"operating_currency\" \"BBB\" \n",
    "\n",
    "2020-01-01 open Assets:Bank\n",
    "2020-01-01 open Equity:Opening-Balances\n",
    "\n",
    "2020-01-01 price AAA 1.0 BBB\n",
    "\n",
    "2020-01-01 * \"Opening Balance\"\n",
    "    Assets:Bank                100 AAA\n",
    "    Equity:Opening-Balances   -100 AAA\n",
    "\n",
    "; Note: at this moment out net worth, when measured in BBB, is 100 BBB, as the exchange rate is 1.0\n",
    "\n",
    "2020-02-01 price AAA 2.0 BBB\n",
    "\n",
    "; Note: at this moment out net worth, when measured in BBB, is 200 BBB, as the exchange rate has changed\n",
    "\n",
    "\"\"\""
   ]
  },
  {
   "cell_type": "markdown",
   "metadata": {},
   "source": [
    "One can see, that if we want to report everything in BBB, then on the 1 February 2020 our net worth has changed from 100 BBB to 200 BBB.\n",
    "But since this was caused by a price change and not a transaction, there is no *beanquery* query, which would explain us why our net worth has increased\n",
    "\n",
    "Let is see, how the SCC handles this"
   ]
  },
  {
   "cell_type": "code",
   "execution_count": 4,
   "metadata": {},
   "outputs": [
    {
     "data": {
      "text/html": [
       "<!DOCTYPE html>\n",
       "<html lang=\"en\">\n",
       "\n",
       "<head>\n",
       "    <meta charset=\"UTF-8\">\n",
       "    </head>\n",
       "\n",
       "<body>\n",
       "<pre>\n",
       "<span style=\"color:green\">2020-01-01</span> open <span style=\"color:blue\">Assets:Bank                                    </span> <span style=\"color:MediumOrchid\"></span>\n",
       "<span style=\"color:green\">2020-01-01</span> open <span style=\"color:blue\">Equity:Opening-Balances                        </span> <span style=\"color:MediumOrchid\"></span>\n",
       "\n",
       "<span style=\"color:green\">2020-01-01</span> price <span style=\"color:MediumOrchid\">AAA</span>                                   <span style=\"color:green\">1.0</span> <span style=\"color:MediumOrchid\">BBB</span>\n",
       "\n",
       "<span style=\"color:green\">2020-01-01</span> * <span style=\"color:brown\">\"Opening Balance\"</span>\n",
       "  <span style=\"color:blue\">Assets:Bank            </span>   <span style=\"color:green\">100.0</span> <span style=\"color:MediumOrchid\">BBB</span>\n",
       "    <span style=\"color:gray; font-weight:bold\">scc_msg:</span> <span style=\"color:gray\">\"Converted from 100 AAA\"</span>\n",
       "  <span style=\"color:blue\">Equity:Opening-Balances</span>  <span style=\"color:green\">-100.0</span> <span style=\"color:MediumOrchid\">BBB</span>\n",
       "    <span style=\"color:gray; font-weight:bold\">scc_msg:</span> <span style=\"color:gray\">\"Converted from -100 AAA\"</span>\n",
       "\n",
       "<span style=\"color:green\">2020-02-01</span> open <span style=\"color:blue\">Income:Unrealized-Gains:BBB-AAA                </span> <span style=\"color:MediumOrchid\"></span>\n",
       "\n",
       "<span style=\"color:green\">2020-02-01</span> price <span style=\"color:MediumOrchid\">AAA</span>                                   <span style=\"color:green\">2.0</span> <span style=\"color:MediumOrchid\">BBB</span>\n",
       "\n",
       "<span style=\"color:green\">2020-02-01</span> * <span style=\"color:brown\">\"Unrealized gains due to AAA price change from 1.0 to 2.0 BBB (BBB price change from 1 to 0.5 AAA)\"</span>\n",
       "  <span style=\"color:gray; font-weight:bold\">scc_msg:</span> <span style=\"color:gray\">\"Created by the Single Currency Converter\"</span>\n",
       "  <span style=\"color:blue\">Assets:Bank                    </span>   <span style=\"color:green\">100.0</span> <span style=\"color:MediumOrchid\">BBB</span>\n",
       "    <span style=\"color:gray; font-weight:bold\">scc_msg:</span> <span style=\"color:gray\">\"Calculated on the balance of 100 AAA at the beginning of this day (end of prev. day)\"</span>\n",
       "    <span style=\"color:gray; font-weight:bold\">scc_at_cost:</span> <span style=\"color:gray\">\"no_cost\"</span>\n",
       "    <span style=\"color:gray; font-weight:bold\">scc_unreal_g_cause:</span> <span style=\"color:gray\">\"price_change\"</span>\n",
       "  <span style=\"color:blue\">Income:Unrealized-Gains:BBB-AAA</span>  <span style=\"color:green\">-100.0</span> <span style=\"color:MediumOrchid\">BBB</span>\n",
       "    <span style=\"color:gray; font-weight:bold\">scc_msg:</span> <span style=\"color:gray\">\"Calculated on the balance of 100 AAA at the beginning of this day (end of prev. day)\"</span>\n",
       "    <span style=\"color:gray; font-weight:bold\">scc_at_cost:</span> <span style=\"color:gray\">\"no_cost\"</span>\n",
       "    <span style=\"color:gray; font-weight:bold\">scc_unreal_g_cause:</span> <span style=\"color:gray\">\"price_change\"</span>\n",
       "    <span style=\"color:gray; font-weight:bold\">scc_bal_s_acc:</span> <span style=\"color:gray\">\"Assets:Bank\"</span>\n",
       "\n",
       "</pre>\n",
       "</body>\n",
       "</html>"
      ],
      "text/plain": [
       "<evbeantools.printer_rich.display_entries.<locals>.DisplayableObject at 0x217577c0950>"
      ]
     },
     "execution_count": 4,
     "metadata": {},
     "output_type": "execute_result"
    }
   ],
   "source": [
    "display_scc_converted(ledger_simple_case)"
   ]
  },
  {
   "cell_type": "markdown",
   "metadata": {},
   "source": [
    "Note that SCC has performed the following actions:\n",
    "\n",
    "- Converted all entries in the Balance Sheet accounts to **BBB** currency at the exchange rate applicable on the given date.  \n",
    "- Added metadata with extra information  \n",
    "- Created an unrealized gains transaction dated on the day of the price change.  \n",
    "\n",
    "Let’s take a closer look at the unrealized gains transaction. It has two postings:\n",
    "\n",
    "- One increases the balance in **Assets:Bank** by the amount of the increase resulting from the price change.  \n",
    "- The other books the same amount (but with the opposite sign) to the newly created  \n",
    "  **Income:Unrealized-Gains:\\<Target Currency\\>-\\<Changed Currency\\>** account. Where:  \n",
    "  - **\\<Target Currency\\>** is the currency in which the unrealized gain is analyzed (BBB in our case).  \n",
    "  - **\\<Changed Currency\\>** is the currency whose exchange rate changed relative to the target currency, causing the unrealized gain (AAA in our case).  \n",
    "\n",
    "This unrealized gain transaction has one piece of transaction-level metadata (indicating how the transaction was created) and several posting-level metadata entries.\n",
    "\n",
    "**Posting-Level Metadata**\n",
    "\n",
    "- **scc_msg**  \n",
    "  Explains what the Balance Sheet account balance was that led to this unrealized gain transaction. Remember that in Beancount, a new price takes effect at the start of the day. Therefore, this balance reflects the start of the day (i.e., the end of the previous day).  \n",
    "\n",
    "- **scc_at_cost**  \n",
    "  Indicates whether the position triggering this unrealized gain was tracked at cost. This can be useful for future analysis (e.g., positions tracked at cost often incur capital gains tax). In this case, the position was *not* tracked at cost.  \n",
    "\n",
    "- **scc_unreal_g_cause**  \n",
    "  States the reason for the unrealized gain transaction. Here, it is `price_change`. Later, we will see that other values are possible.  \n",
    "\n",
    "- **scc_bal_s_acc**  \n",
    "  This metadata is only present on the posting to the **Income:Unrealized-Gains** account and corresponds to the Balance Sheet account name of the other posting. It can be used to analyze which Balance Sheet accounts caused unrealized gains.  \n",
    "\n",
    "With this new ledger, converted to the target currency, we have all the information we need to determine and analyze unrealized gains using **beanquery**."
   ]
  },
  {
   "cell_type": "markdown",
   "metadata": {},
   "source": [
    "### <a id='toc1_2_2_'></a>[Currency exchange at not market price](#toc0_)\n",
    "Let us look at the situation, when there was a currency exchange at a price / exchange rate, different from the one specified by the price directive"
   ]
  },
  {
   "cell_type": "code",
   "execution_count": 5,
   "metadata": {},
   "outputs": [
    {
     "name": "stdout",
     "output_type": "stream",
     "text": [
      "No errors in the ledger file\n"
     ]
    }
   ],
   "source": [
    "ledger_exchange_wrong_price = \"\"\"\n",
    "\n",
    "option \"operating_currency\" \"BBB\" \n",
    "\n",
    "2020-01-01 commodity AAA\n",
    "2020-01-01 commodity BBB\n",
    "\n",
    "2020-01-01 open Assets:BankA              AAA\n",
    "2020-01-01 open Assets:BankB              BBB\n",
    "2020-01-01 open Equity:Opening-Balances   AAA\n",
    "\n",
    "2020-01-01 price AAA 1.0 BBB\n",
    "\n",
    "2020-01-01 * \"Opening Balance\"\n",
    "    Assets:BankA                100 AAA\n",
    "    Equity:Opening-Balances    -100 AAA\n",
    "\n",
    "2020-02-01 * \"Exchange AAA to BBB\"\n",
    "    Assets:BankA               -100 AAA\n",
    "    Assets:BankB                150 BBB @@ 100 AAA ; <== price, different from the one in the price directive\n",
    "\n",
    "\"\"\"\n",
    "\n",
    "check_for_errors(ledger_exchange_wrong_price)"
   ]
  },
  {
   "cell_type": "markdown",
   "metadata": {},
   "source": [
    "Beancount does allow this situation, and does not complain about it. Not even if you use a combination of [implicit_prices](https://github.com/beancount/beancount/blob/master/beancount/plugins/implicit_prices.py) and [pedantic](https://github.com/beancount/beancount/blob/master/beancount/plugins/pedantic.py) plugins"
   ]
  },
  {
   "cell_type": "code",
   "execution_count": 6,
   "metadata": {},
   "outputs": [
    {
     "name": "stdout",
     "output_type": "stream",
     "text": [
      "No errors in the ledger file\n"
     ]
    }
   ],
   "source": [
    "ledger_exchange_wrong_price_implicit_pedantic = \"\"\"\n",
    "\n",
    "option \"operating_currency\" \"BBB\" \n",
    "\n",
    "plugin \"beancount.plugins.implicit_prices\"\n",
    "\n",
    "plugin \"beancount.plugins.pedantic\"\n",
    "\n",
    "\n",
    "2020-01-01 commodity AAA\n",
    "2020-01-01 commodity BBB\n",
    "\n",
    "2020-01-01 open Assets:BankA              AAA\n",
    "2020-01-01 open Assets:BankB              BBB\n",
    "2020-01-01 open Equity:Opening-Balances   AAA\n",
    "\n",
    "2020-01-01 price AAA 1.0 BBB\n",
    "\n",
    "2020-01-01 * \"Opening Balance\"\n",
    "    Assets:BankA                100.0 AAA\n",
    "    Equity:Opening-Balances    -100.0 AAA\n",
    "\n",
    "2020-02-01 * \"Exchange AAA to BBB\"\n",
    "    Assets:BankA               -100.0 AAA\n",
    "    Assets:BankB                150.0 BBB @@ 100 AAA ; <== price, different from the one in the price directive\n",
    "\n",
    "\"\"\"\n",
    "\n",
    "check_for_errors(ledger_exchange_wrong_price_implicit_pedantic)"
   ]
  },
  {
   "cell_type": "markdown",
   "metadata": {},
   "source": [
    "Later however **beanquery** is going to use only the price directive prices for its CONVERT function. \n",
    "\n",
    "In general, when you buy something at a price significantly different than the market price, this shall be treated as a gain or loss. However as we see it is quite easy to miss such situation, when using a vanilla beancount. This is not to mention the fact, that in many countries the situation, when you buy something at a price, significantly different from the market price, may attract an attention of the authorities, when happening on a large scale. \n",
    "\n",
    "Let us check how the SCC handles this."
   ]
  },
  {
   "cell_type": "code",
   "execution_count": 7,
   "metadata": {},
   "outputs": [
    {
     "data": {
      "text/html": [
       "<!DOCTYPE html>\n",
       "<html lang=\"en\">\n",
       "\n",
       "<head>\n",
       "    <meta charset=\"UTF-8\">\n",
       "    </head>\n",
       "\n",
       "<body>\n",
       "<pre>\n",
       "<span style=\"color:green\">2020-01-01</span> open <span style=\"color:blue\">Assets:BankA                                   </span> <span style=\"color:MediumOrchid\"></span>\n",
       "  <span style=\"color:gray; font-weight:bold\">scc_msg:</span> <span style=\"color:gray\">\"Converted from original Open entry by removing currencies ['AAA']\"</span>\n",
       "<span style=\"color:green\">2020-01-01</span> open <span style=\"color:blue\">Assets:BankB                                   </span> <span style=\"color:MediumOrchid\"></span>\n",
       "  <span style=\"color:gray; font-weight:bold\">scc_msg:</span> <span style=\"color:gray\">\"Converted from original Open entry by removing currencies ['BBB']\"</span>\n",
       "<span style=\"color:green\">2020-01-01</span> open <span style=\"color:blue\">Equity:Opening-Balances                        </span> <span style=\"color:MediumOrchid\"></span>\n",
       "  <span style=\"color:gray; font-weight:bold\">scc_msg:</span> <span style=\"color:gray\">\"Converted from original Open entry by removing currencies ['AAA']\"</span>\n",
       "\n",
       "<span style=\"color:green\">2020-01-01</span> price <span style=\"color:MediumOrchid\">AAA</span>                                   <span style=\"color:green\">1.0</span> <span style=\"color:MediumOrchid\">BBB</span>\n",
       "\n",
       "<span style=\"color:green\">2020-01-01</span> * <span style=\"color:brown\">\"Opening Balance\"</span>\n",
       "  <span style=\"color:blue\">Assets:BankA           </span>   <span style=\"color:green\">100.0</span> <span style=\"color:MediumOrchid\">BBB</span>\n",
       "    <span style=\"color:gray; font-weight:bold\">scc_msg:</span> <span style=\"color:gray\">\"Converted from 100 AAA\"</span>\n",
       "  <span style=\"color:blue\">Equity:Opening-Balances</span>  <span style=\"color:green\">-100.0</span> <span style=\"color:MediumOrchid\">BBB</span>\n",
       "    <span style=\"color:gray; font-weight:bold\">scc_msg:</span> <span style=\"color:gray\">\"Converted from -100 AAA\"</span>\n",
       "\n",
       "<span style=\"color:green\">2020-01-01</span> commodity <span style=\"color:MediumOrchid\">AAA</span>\n",
       "\n",
       "<span style=\"color:green\">2020-01-01</span> commodity <span style=\"color:MediumOrchid\">BBB</span>\n",
       "\n",
       "<span style=\"color:green\">2020-02-01</span> open <span style=\"color:blue\">Income:Unrealized-Gains:BBB-AAA                </span> <span style=\"color:MediumOrchid\"></span>\n",
       "\n",
       "<span style=\"color:green\">2020-02-01</span> * <span style=\"color:brown\">\"Exchange AAA to BBB\"</span>\n",
       "  <span style=\"color:blue\">Assets:BankA                   </span>                         <span style=\"color:green\">-100.0</span> <span style=\"color:MediumOrchid\">BBB</span>\n",
       "    <span style=\"color:gray; font-weight:bold\">scc_msg:</span> <span style=\"color:gray\">\"Converted from -100 AAA\"</span>\n",
       "  <span style=\"color:blue\">Assets:BankB                   </span>                            <span style=\"color:green\">150</span> <span style=\"color:MediumOrchid\">BBB</span>\n",
       "    <span style=\"color:gray; font-weight:bold\">scc_msg:</span> <span style=\"color:gray\">\"Converted from original posting in the same currency by removing cost and/or price\"</span>\n",
       "  <span style=\"color:blue\">Income:Unrealized-Gains:BBB-AAA</span>  <span style=\"color:green\">-50.0000000000000000000000000</span> <span style=\"color:MediumOrchid\">BBB</span>\n",
       "    <span style=\"color:gray; font-weight:bold\">scc_msg:</span> <span style=\"color:gray\">\"Price difference compensation when converting 100.0000000000000000000000000 AAA to BBB. 'price' directive price is 1, price used to weight the posting is 0.6666666666666666666666666667\"</span>\n",
       "    <span style=\"color:gray; font-weight:bold\">scc_at_cost:</span> <span style=\"color:gray\">\"no_cost\"</span>\n",
       "    <span style=\"color:gray; font-weight:bold\">scc_unreal_g_cause:</span> <span style=\"color:gray\">\"price_diff\"</span>\n",
       "    <span style=\"color:gray; font-weight:bold\">scc_bal_s_acc:</span> <span style=\"color:gray\">\"Assets:BankB\"</span>\n",
       "\n",
       "</pre>\n",
       "</body>\n",
       "</html>"
      ],
      "text/plain": [
       "<evbeantools.printer_rich.display_entries.<locals>.DisplayableObject at 0x21757b2a5d0>"
      ]
     },
     "execution_count": 7,
     "metadata": {},
     "output_type": "execute_result"
    }
   ],
   "source": [
    "display_scc_converted(ledger_exchange_wrong_price)"
   ]
  },
  {
   "cell_type": "markdown",
   "metadata": {},
   "source": [
    "Observe that for the **Exchange AAA to BBB** transaction, the SCC has converted the posting to the **Assets:BankA** account into the new commodity (**BBB**) at the exchange rate specified by the price directive and has added an unrealized gain posting to the **Income:Unrealized-Gains:BBB-AAA** account, which accounts for the gain resulting from the exchange rate differing from the one specified in the price directive. Also note that the **scc_unreal_g_cause** metadata now has the value **price_diff**, rather than **price_change**.\n"
   ]
  },
  {
   "cell_type": "markdown",
   "metadata": {},
   "source": [
    "### <a id='toc1_2_3_'></a>[Tracking at cost, selling with gain](#toc0_)\n",
    "Let us look at the situation, when certain commodity was purchased, tracked at cost and then sold with gain"
   ]
  },
  {
   "cell_type": "code",
   "execution_count": 8,
   "metadata": {},
   "outputs": [
    {
     "data": {
      "text/html": [
       "<!DOCTYPE html>\n",
       "<html lang=\"en\">\n",
       "\n",
       "<head>\n",
       "    <meta charset=\"UTF-8\">\n",
       "    </head>\n",
       "\n",
       "<body>\n",
       "<pre>\n",
       "<span style=\"color:green\">2020-01-01</span> open <span style=\"color:blue\">Assets:Bank:Checking                           </span> <span style=\"color:MediumOrchid\"></span>\n",
       "<span style=\"color:green\">2020-01-01</span> open <span style=\"color:blue\">Equity:Opening-Balances                        </span> <span style=\"color:MediumOrchid\"></span>\n",
       "<span style=\"color:green\">2020-01-01</span> open <span style=\"color:blue\">Assets:Investments:IVV                         </span> <span style=\"color:MediumOrchid\"></span>\n",
       "<span style=\"color:green\">2020-01-01</span> open <span style=\"color:blue\">Income:Investment                              </span> <span style=\"color:MediumOrchid\"></span>\n",
       "\n",
       "<span style=\"color:green\">2020-01-01</span> price <span style=\"color:MediumOrchid\">IVV</span>                                   <span style=\"color:green\">150</span> <span style=\"color:MediumOrchid\">USD</span>\n",
       "\n",
       "<span style=\"color:green\">2020-01-01</span> * <span style=\"color:brown\">\"Opening Balances\"</span>\n",
       "  <span style=\"color:blue\">Assets:Bank:Checking   </span>   <span style=\"color:green\">1000</span> <span style=\"color:MediumOrchid\">USD</span>\n",
       "  <span style=\"color:blue\">Equity:Opening-Balances</span>  <span style=\"color:green\">-1000</span> <span style=\"color:MediumOrchid\">USD</span>\n",
       "\n",
       "<span style=\"color:green\">2020-01-02</span> * <span style=\"color:brown\">\"Buying IVV at cost at a market price\"</span>\n",
       "  <span style=\"color:blue\">Assets:Bank:Checking  </span>  <span style=\"color:green\">-300</span> <span style=\"color:MediumOrchid\">USD</span>\n",
       "  <span style=\"color:blue\">Assets:Investments:IVV</span>   <span style=\"color:green\">300</span> <span style=\"color:MediumOrchid\">USD</span>\n",
       "    <span style=\"color:gray; font-weight:bold\">scc_msg:</span> <span style=\"color:gray\">\"Converted from 2 IVV\"</span>\n",
       "\n",
       "<span style=\"color:green\">2020-02-01</span> open <span style=\"color:blue\">Income:Unrealized-Gains:USD-IVV                </span> <span style=\"color:MediumOrchid\"></span>\n",
       "\n",
       "<span style=\"color:green\">2020-02-01</span> price <span style=\"color:MediumOrchid\">IVV</span>                                   <span style=\"color:green\">200</span> <span style=\"color:MediumOrchid\">USD</span>\n",
       "\n",
       "<span style=\"color:green\">2020-02-01</span> * <span style=\"color:brown\">\"Unrealized gains due to IVV price change from 150 to 200 USD (USD price change from 0.006666666666666666666666666667 to 0.005 IVV)\"</span>\n",
       "  <span style=\"color:gray; font-weight:bold\">scc_msg:</span> <span style=\"color:gray\">\"Created by the Single Currency Converter\"</span>\n",
       "  <span style=\"color:blue\">Assets:Investments:IVV         </span>   <span style=\"color:green\">100</span> <span style=\"color:MediumOrchid\">USD</span>\n",
       "    <span style=\"color:gray; font-weight:bold\">scc_msg:</span> <span style=\"color:gray\">\"Calculated on the balance of 2 IVV at the beginning of this day (end of prev. day)\"</span>\n",
       "    <span style=\"color:gray; font-weight:bold\">scc_at_cost:</span> <span style=\"color:gray\">\"at_cost\"</span>\n",
       "    <span style=\"color:gray; font-weight:bold\">scc_unreal_g_cause:</span> <span style=\"color:gray\">\"price_change\"</span>\n",
       "  <span style=\"color:blue\">Income:Unrealized-Gains:USD-IVV</span>  <span style=\"color:green\">-100</span> <span style=\"color:MediumOrchid\">USD</span>\n",
       "    <span style=\"color:gray; font-weight:bold\">scc_msg:</span> <span style=\"color:gray\">\"Calculated on the balance of 2 IVV at the beginning of this day (end of prev. day)\"</span>\n",
       "    <span style=\"color:gray; font-weight:bold\">scc_at_cost:</span> <span style=\"color:gray\">\"at_cost\"</span>\n",
       "    <span style=\"color:gray; font-weight:bold\">scc_unreal_g_cause:</span> <span style=\"color:gray\">\"price_change\"</span>\n",
       "    <span style=\"color:gray; font-weight:bold\">scc_bal_s_acc:</span> <span style=\"color:gray\">\"Assets:Investments:IVV\"</span>\n",
       "\n",
       "<span style=\"color:green\">2020-03-01</span> * <span style=\"color:brown\">\"Selling IVV at a new price\"</span>\n",
       "  <span style=\"color:blue\">Assets:Bank:Checking           </span>   <span style=\"color:green\">400</span> <span style=\"color:MediumOrchid\">USD</span>\n",
       "  <span style=\"color:blue\">Income:Investment              </span>  <span style=\"color:green\">-100</span> <span style=\"color:MediumOrchid\">USD</span>\n",
       "  <span style=\"color:blue\">Assets:Investments:IVV         </span>  <span style=\"color:green\">-400</span> <span style=\"color:MediumOrchid\">USD</span>\n",
       "    <span style=\"color:gray; font-weight:bold\">scc_msg:</span> <span style=\"color:gray\">\"Converted from -2 IVV\"</span>\n",
       "  <span style=\"color:blue\">Income:Unrealized-Gains:USD-IVV</span>   <span style=\"color:green\">100</span> <span style=\"color:MediumOrchid\">USD</span>\n",
       "    <span style=\"color:gray; font-weight:bold\">scc_msg:</span> <span style=\"color:gray\">\"Price difference compensation when converting -2 IVV to USD. 'price' directive price is 200, price used to weight the posting is 150\"</span>\n",
       "    <span style=\"color:gray; font-weight:bold\">scc_at_cost:</span> <span style=\"color:gray\">\"at_cost\"</span>\n",
       "    <span style=\"color:gray; font-weight:bold\">scc_unreal_g_cause:</span> <span style=\"color:gray\">\"price_diff\"</span>\n",
       "    <span style=\"color:gray; font-weight:bold\">scc_bal_s_acc:</span> <span style=\"color:gray\">\"Assets:Investments:IVV\"</span>\n",
       "\n",
       "</pre>\n",
       "</body>\n",
       "</html>"
      ],
      "text/plain": [
       "<evbeantools.printer_rich.display_entries.<locals>.DisplayableObject at 0x217580bc170>"
      ]
     },
     "execution_count": 8,
     "metadata": {},
     "output_type": "execute_result"
    }
   ],
   "source": [
    "ledger_tracking_at_cost_at_selling_with_gain = \"\"\"\n",
    "\n",
    "option \"operating_currency\" \"USD\" \n",
    "\n",
    "2020-01-01 open Assets:Bank:Checking \n",
    "2020-01-01 open Equity:Opening-Balances\n",
    "2020-01-01 open Assets:Investments:IVV\n",
    "2020-01-01 open Income:Investment\n",
    "\n",
    "2020-01-01 * \"Opening Balances\"\n",
    "    Assets:Bank:Checking  1000 USD\n",
    "    Equity:Opening-Balances\n",
    "    \n",
    "2020-01-01 price IVV 150 USD\n",
    "    \n",
    "2020-01-02 * \"Buying IVV at cost at a market price\"\n",
    "    Assets:Bank:Checking    -300 USD\n",
    "    Assets:Investments:IVV     2 IVV {150 USD} \n",
    "    \n",
    "    \n",
    "2020-02-01 price IVV 200 USD\n",
    "\n",
    "\n",
    "2020-03-01 * \"Selling IVV at a new price\"\n",
    "    Assets:Bank:Checking        400 USD \n",
    "    Income:Investment          -100 USD\n",
    "    Assets:Investments:IVV       -2 IVV {150 USD} @ 200 USD \n",
    "\"\"\"\n",
    "\n",
    "display_scc_converted(ledger_tracking_at_cost_at_selling_with_gain)"
   ]
  },
  {
   "cell_type": "markdown",
   "metadata": {},
   "source": [
    "Observe, that there are 2 posting to the account **Income:Unrealized-Gains:USD-IVV**\n",
    "\n",
    "-  the first one on the 2020-02-01, and it is caused by market price change\n",
    "-  the second one is on the 2020-03-01, when the commodity IVV was sold with the gain. This posting cancels out the previous one, as it has the same value, but an opposite sign. This is correct, as the gain, which existed in the \"unrealized form\" before 2020-03-01 has now been realized and booked to the **Income:Investment** account. \n",
    "  \n",
    "Both postings have the value of the meta **scc_at_cost** equal to *at_cost*, which is different from the previous example, where this meta was equal to the \"no_cost\". Filtering or grouping by in beanquery by the transaction - level metadata **scc_at_cost** allows to separate unrealized gains for the positions, tracked at cost, and positions not tracked at cost.\n"
   ]
  },
  {
   "cell_type": "markdown",
   "metadata": {},
   "source": [
    "### <a id='toc1_2_4_'></a>[Multiple Balance Sheet accounts. Usage of the \"group_p_l_acc_tr\" option.](#toc0_)\n",
    "Let us look at the situation, when there are several Balance Sheet accounts with a commodity, which price is changing"
   ]
  },
  {
   "cell_type": "code",
   "execution_count": 9,
   "metadata": {},
   "outputs": [
    {
     "data": {
      "text/html": [
       "<!DOCTYPE html>\n",
       "<html lang=\"en\">\n",
       "\n",
       "<head>\n",
       "    <meta charset=\"UTF-8\">\n",
       "    </head>\n",
       "\n",
       "<body>\n",
       "<pre>\n",
       "<span style=\"color:green\">2020-01-01</span> open <span style=\"color:blue\">Assets:Bank1                                   </span> <span style=\"color:MediumOrchid\"></span>\n",
       "<span style=\"color:green\">2020-01-01</span> open <span style=\"color:blue\">Assets:Bank2                                   </span> <span style=\"color:MediumOrchid\"></span>\n",
       "<span style=\"color:green\">2020-01-01</span> open <span style=\"color:blue\">Equity:Opening-Balances                        </span> <span style=\"color:MediumOrchid\"></span>\n",
       "\n",
       "<span style=\"color:green\">2020-01-01</span> price <span style=\"color:MediumOrchid\">AAA</span>                                   <span style=\"color:green\">1.0</span> <span style=\"color:MediumOrchid\">BBB</span>\n",
       "\n",
       "<span style=\"color:green\">2020-01-01</span> * <span style=\"color:brown\">\"Opening Balance\"</span>\n",
       "  <span style=\"color:blue\">Assets:Bank1           </span>   <span style=\"color:green\">100.0</span> <span style=\"color:MediumOrchid\">BBB</span>\n",
       "    <span style=\"color:gray; font-weight:bold\">scc_msg:</span> <span style=\"color:gray\">\"Converted from 100 AAA\"</span>\n",
       "  <span style=\"color:blue\">Assets:Bank2           </span>   <span style=\"color:green\">100.0</span> <span style=\"color:MediumOrchid\">BBB</span>\n",
       "    <span style=\"color:gray; font-weight:bold\">scc_msg:</span> <span style=\"color:gray\">\"Converted from 100 AAA\"</span>\n",
       "  <span style=\"color:blue\">Equity:Opening-Balances</span>  <span style=\"color:green\">-200.0</span> <span style=\"color:MediumOrchid\">BBB</span>\n",
       "    <span style=\"color:gray; font-weight:bold\">scc_msg:</span> <span style=\"color:gray\">\"Converted from -200 AAA\"</span>\n",
       "\n",
       "<span style=\"color:green\">2020-02-01</span> open <span style=\"color:blue\">Income:Unrealized-Gains:BBB-AAA                </span> <span style=\"color:MediumOrchid\"></span>\n",
       "\n",
       "<span style=\"color:green\">2020-02-01</span> price <span style=\"color:MediumOrchid\">AAA</span>                                   <span style=\"color:green\">2.0</span> <span style=\"color:MediumOrchid\">BBB</span>\n",
       "\n",
       "<span style=\"color:green\">2020-02-01</span> * <span style=\"color:brown\">\"Unrealized gains due to AAA price change from 1.0 to 2.0 BBB (BBB price change from 1 to 0.5 AAA)\"</span>\n",
       "  <span style=\"color:gray; font-weight:bold\">scc_msg:</span> <span style=\"color:gray\">\"Created by the Single Currency Converter\"</span>\n",
       "  <span style=\"color:blue\">Assets:Bank1                   </span>   <span style=\"color:green\">100.0</span> <span style=\"color:MediumOrchid\">BBB</span>\n",
       "    <span style=\"color:gray; font-weight:bold\">scc_msg:</span> <span style=\"color:gray\">\"Calculated on the balance of 100 AAA at the beginning of this day (end of prev. day)\"</span>\n",
       "    <span style=\"color:gray; font-weight:bold\">scc_at_cost:</span> <span style=\"color:gray\">\"no_cost\"</span>\n",
       "    <span style=\"color:gray; font-weight:bold\">scc_unreal_g_cause:</span> <span style=\"color:gray\">\"price_change\"</span>\n",
       "  <span style=\"color:blue\">Income:Unrealized-Gains:BBB-AAA</span>  <span style=\"color:green\">-100.0</span> <span style=\"color:MediumOrchid\">BBB</span>\n",
       "    <span style=\"color:gray; font-weight:bold\">scc_msg:</span> <span style=\"color:gray\">\"Calculated on the balance of 100 AAA at the beginning of this day (end of prev. day)\"</span>\n",
       "    <span style=\"color:gray; font-weight:bold\">scc_at_cost:</span> <span style=\"color:gray\">\"no_cost\"</span>\n",
       "    <span style=\"color:gray; font-weight:bold\">scc_unreal_g_cause:</span> <span style=\"color:gray\">\"price_change\"</span>\n",
       "    <span style=\"color:gray; font-weight:bold\">scc_bal_s_acc:</span> <span style=\"color:gray\">\"Assets:Bank1\"</span>\n",
       "  <span style=\"color:blue\">Assets:Bank2                   </span>   <span style=\"color:green\">100.0</span> <span style=\"color:MediumOrchid\">BBB</span>\n",
       "    <span style=\"color:gray; font-weight:bold\">scc_msg:</span> <span style=\"color:gray\">\"Calculated on the balance of 100 AAA at the beginning of this day (end of prev. day)\"</span>\n",
       "    <span style=\"color:gray; font-weight:bold\">scc_at_cost:</span> <span style=\"color:gray\">\"no_cost\"</span>\n",
       "    <span style=\"color:gray; font-weight:bold\">scc_unreal_g_cause:</span> <span style=\"color:gray\">\"price_change\"</span>\n",
       "  <span style=\"color:blue\">Income:Unrealized-Gains:BBB-AAA</span>  <span style=\"color:green\">-100.0</span> <span style=\"color:MediumOrchid\">BBB</span>\n",
       "    <span style=\"color:gray; font-weight:bold\">scc_msg:</span> <span style=\"color:gray\">\"Calculated on the balance of 100 AAA at the beginning of this day (end of prev. day)\"</span>\n",
       "    <span style=\"color:gray; font-weight:bold\">scc_at_cost:</span> <span style=\"color:gray\">\"no_cost\"</span>\n",
       "    <span style=\"color:gray; font-weight:bold\">scc_unreal_g_cause:</span> <span style=\"color:gray\">\"price_change\"</span>\n",
       "    <span style=\"color:gray; font-weight:bold\">scc_bal_s_acc:</span> <span style=\"color:gray\">\"Assets:Bank2\"</span>\n",
       "\n",
       "</pre>\n",
       "</body>\n",
       "</html>"
      ],
      "text/plain": [
       "<evbeantools.printer_rich.display_entries.<locals>.DisplayableObject at 0x2175813b3b0>"
      ]
     },
     "execution_count": 9,
     "metadata": {},
     "output_type": "execute_result"
    }
   ],
   "source": [
    "ledger_simple_case_mult_acc = \"\"\"\n",
    "\n",
    "option \"operating_currency\" \"BBB\" \n",
    "\n",
    "2020-01-01 open Assets:Bank1\n",
    "2020-01-01 open Assets:Bank2\n",
    "2020-01-01 open Equity:Opening-Balances\n",
    "\n",
    "2020-01-01 price AAA 1.0 BBB\n",
    "\n",
    "2020-01-01 * \"Opening Balance\"\n",
    "    Assets:Bank1                100 AAA\n",
    "    Assets:Bank2                100 AAA\n",
    "    Equity:Opening-Balances   - 200 AAA\n",
    "\n",
    "\n",
    "2020-02-01 price AAA 2.0 BBB\n",
    "\"\"\"\n",
    "display_scc_converted(ledger_simple_case_mult_acc)"
   ]
  },
  {
   "cell_type": "markdown",
   "metadata": {},
   "source": [
    "Note, that there are 2 unrealized gains postings for every price change. Each of these postings has different value of the **scc_bal_s_acc** meta. This allows to use beanquery to analyze which Balance Sheet accounts have caused unrealized gains.  \n",
    "\n",
    "It is however possible to combine all postings to the unrealized gains account to a single posting, buy setting the **group_p_l_acc_tr** option to True."
   ]
  },
  {
   "cell_type": "code",
   "execution_count": 10,
   "metadata": {},
   "outputs": [
    {
     "data": {
      "text/html": [
       "<!DOCTYPE html>\n",
       "<html lang=\"en\">\n",
       "\n",
       "<head>\n",
       "    <meta charset=\"UTF-8\">\n",
       "    </head>\n",
       "\n",
       "<body>\n",
       "<pre>\n",
       "<span style=\"color:green\">2020-01-01</span> open <span style=\"color:blue\">Assets:Bank1                                   </span> <span style=\"color:MediumOrchid\"></span>\n",
       "<span style=\"color:green\">2020-01-01</span> open <span style=\"color:blue\">Assets:Bank2                                   </span> <span style=\"color:MediumOrchid\"></span>\n",
       "<span style=\"color:green\">2020-01-01</span> open <span style=\"color:blue\">Equity:Opening-Balances                        </span> <span style=\"color:MediumOrchid\"></span>\n",
       "\n",
       "<span style=\"color:green\">2020-01-01</span> price <span style=\"color:MediumOrchid\">AAA</span>                                   <span style=\"color:green\">1.0</span> <span style=\"color:MediumOrchid\">BBB</span>\n",
       "\n",
       "<span style=\"color:green\">2020-01-01</span> * <span style=\"color:brown\">\"Opening Balance\"</span>\n",
       "  <span style=\"color:blue\">Assets:Bank1           </span>   <span style=\"color:green\">100.0</span> <span style=\"color:MediumOrchid\">BBB</span>\n",
       "    <span style=\"color:gray; font-weight:bold\">scc_msg:</span> <span style=\"color:gray\">\"Converted from 100 AAA\"</span>\n",
       "  <span style=\"color:blue\">Assets:Bank2           </span>   <span style=\"color:green\">100.0</span> <span style=\"color:MediumOrchid\">BBB</span>\n",
       "    <span style=\"color:gray; font-weight:bold\">scc_msg:</span> <span style=\"color:gray\">\"Converted from 100 AAA\"</span>\n",
       "  <span style=\"color:blue\">Equity:Opening-Balances</span>  <span style=\"color:green\">-200.0</span> <span style=\"color:MediumOrchid\">BBB</span>\n",
       "    <span style=\"color:gray; font-weight:bold\">scc_msg:</span> <span style=\"color:gray\">\"Converted from -200 AAA\"</span>\n",
       "\n",
       "<span style=\"color:green\">2020-02-01</span> open <span style=\"color:blue\">Income:Unrealized-Gains:BBB-AAA                </span> <span style=\"color:MediumOrchid\"></span>\n",
       "\n",
       "<span style=\"color:green\">2020-02-01</span> price <span style=\"color:MediumOrchid\">AAA</span>                                   <span style=\"color:green\">2.0</span> <span style=\"color:MediumOrchid\">BBB</span>\n",
       "\n",
       "<span style=\"color:green\">2020-02-01</span> * <span style=\"color:brown\">\"Unrealized gains due to AAA price change from 1.0 to 2.0 BBB (BBB price change from 1 to 0.5 AAA)\"</span>\n",
       "  <span style=\"color:gray; font-weight:bold\">scc_msg:</span> <span style=\"color:gray\">\"Created by the Single Currency Converter\"</span>\n",
       "  <span style=\"color:blue\">Income:Unrealized-Gains:BBB-AAA</span>  <span style=\"color:green\">-200.0</span> <span style=\"color:MediumOrchid\">BBB</span>\n",
       "    <span style=\"color:gray; font-weight:bold\">scc_at_cost:</span> <span style=\"color:gray\">\"no_cost\"</span>\n",
       "    <span style=\"color:gray; font-weight:bold\">scc_unreal_g_cause:</span> <span style=\"color:gray\">\"price_change\"</span>\n",
       "  <span style=\"color:blue\">Assets:Bank1                   </span>   <span style=\"color:green\">100.0</span> <span style=\"color:MediumOrchid\">BBB</span>\n",
       "    <span style=\"color:gray; font-weight:bold\">scc_msg:</span> <span style=\"color:gray\">\"Calculated on the balance of 100 AAA at the beginning of this day (end of prev. day)\"</span>\n",
       "    <span style=\"color:gray; font-weight:bold\">scc_at_cost:</span> <span style=\"color:gray\">\"no_cost\"</span>\n",
       "    <span style=\"color:gray; font-weight:bold\">scc_unreal_g_cause:</span> <span style=\"color:gray\">\"price_change\"</span>\n",
       "  <span style=\"color:blue\">Assets:Bank2                   </span>   <span style=\"color:green\">100.0</span> <span style=\"color:MediumOrchid\">BBB</span>\n",
       "    <span style=\"color:gray; font-weight:bold\">scc_msg:</span> <span style=\"color:gray\">\"Calculated on the balance of 100 AAA at the beginning of this day (end of prev. day)\"</span>\n",
       "    <span style=\"color:gray; font-weight:bold\">scc_at_cost:</span> <span style=\"color:gray\">\"no_cost\"</span>\n",
       "    <span style=\"color:gray; font-weight:bold\">scc_unreal_g_cause:</span> <span style=\"color:gray\">\"price_change\"</span>\n",
       "\n",
       "</pre>\n",
       "</body>\n",
       "</html>"
      ],
      "text/plain": [
       "<evbeantools.printer_rich.display_entries.<locals>.DisplayableObject at 0x21755f4f5c0>"
      ]
     },
     "execution_count": 10,
     "metadata": {},
     "output_type": "execute_result"
    }
   ],
   "source": [
    "display_scc_converted(ledger_simple_case_mult_acc, group_p_l_acc_tr = True)"
   ]
  },
  {
   "cell_type": "markdown",
   "metadata": {},
   "source": [
    "Observe, that there is only one posting to the **Income:Unrealized-Gains:BBB-AAA** account, which makes the unrealized gains transaction more compact. As a downside the 2 posting-levels metadatas are not available now:\n",
    "- scc_msg\n",
    "- scc_bal_s_acc\n",
    "\n",
    "Which means, that less information will be available for analysis"
   ]
  },
  {
   "cell_type": "markdown",
   "metadata": {},
   "source": [
    "### <a id='toc1_2_5_'></a>[Unconvertable commodity](#toc0_)\n",
    "Let us explore the situation, when we have a currency AAA, a target currency BBB and there is a third currency CCC, but there is no exchange rate between the BBB and the CCC. In another words the commodity CCC is what we call \"an unconvertable in relation to the target currency\", which is BBB in this case\""
   ]
  },
  {
   "cell_type": "code",
   "execution_count": 11,
   "metadata": {},
   "outputs": [
    {
     "data": {
      "text/html": [
       "<!DOCTYPE html>\n",
       "<html lang=\"en\">\n",
       "\n",
       "<head>\n",
       "    <meta charset=\"UTF-8\">\n",
       "    </head>\n",
       "\n",
       "<body>\n",
       "<pre>\n",
       "<span style=\"color:green\">2020-01-01</span> open <span style=\"color:blue\">Assets:BankA                                   </span> <span style=\"color:MediumOrchid\"></span>\n",
       "<span style=\"color:green\">2020-01-01</span> open <span style=\"color:blue\">Assets:BankC                                   </span> <span style=\"color:MediumOrchid\"></span>\n",
       "<span style=\"color:green\">2020-01-01</span> open <span style=\"color:blue\">Equity:Opening-Balances                        </span> <span style=\"color:MediumOrchid\"></span>\n",
       "<span style=\"color:green\">2020-01-01</span> open <span style=\"color:blue\">Expenses:Misc                                  </span> <span style=\"color:MediumOrchid\"></span>\n",
       "\n",
       "<span style=\"color:green\">2020-01-01</span> price <span style=\"color:MediumOrchid\">AAA</span>                                   <span style=\"color:green\">1.0</span> <span style=\"color:MediumOrchid\">BBB</span>\n",
       "\n",
       "<span style=\"color:green\">2020-01-01</span> * <span style=\"color:brown\">\"Opening Balance\"</span>\n",
       "  <span style=\"color:blue\">Assets:BankA           </span>   <span style=\"color:green\">100.0</span> <span style=\"color:MediumOrchid\">BBB</span>\n",
       "    <span style=\"color:gray; font-weight:bold\">scc_msg:</span> <span style=\"color:gray\">\"Converted from 100 AAA\"</span>\n",
       "  <span style=\"color:blue\">Equity:Opening-Balances</span>  <span style=\"color:green\">-100.0</span> <span style=\"color:MediumOrchid\">BBB</span>\n",
       "    <span style=\"color:gray; font-weight:bold\">scc_msg:</span> <span style=\"color:gray\">\"Converted from -100 AAA\"</span>\n",
       "  <span style=\"color:blue\">Assets:BankC           </span>     <span style=\"color:green\">100</span> <span style=\"color:MediumOrchid\">CCC</span>\n",
       "  <span style=\"color:blue\">Equity:Opening-Balances</span>    <span style=\"color:green\">-100</span> <span style=\"color:MediumOrchid\">CCC</span>\n",
       "\n",
       "<span style=\"color:green\">2020-01-03</span> open <span style=\"color:blue\">Income:Unrealized-Gains:BBB-AAA                </span> <span style=\"color:MediumOrchid\"></span>\n",
       "\n",
       "<span style=\"color:green\">2020-01-03</span> price <span style=\"color:MediumOrchid\">AAA</span>                                   <span style=\"color:green\">1.5</span> <span style=\"color:MediumOrchid\">BBB</span>\n",
       "\n",
       "<span style=\"color:green\">2020-01-03</span> * <span style=\"color:brown\">\"Unrealized gains due to AAA price change from 1.0 to 1.5 BBB (BBB price change from 1 to 0.6666666666666666666666666667 AAA)\"</span>\n",
       "  <span style=\"color:gray; font-weight:bold\">scc_msg:</span> <span style=\"color:gray\">\"Created by the Single Currency Converter\"</span>\n",
       "  <span style=\"color:blue\">Assets:BankA                   </span>   <span style=\"color:green\">50.0</span> <span style=\"color:MediumOrchid\">BBB</span>\n",
       "    <span style=\"color:gray; font-weight:bold\">scc_msg:</span> <span style=\"color:gray\">\"Calculated on the balance of 100 AAA at the beginning of this day (end of prev. day)\"</span>\n",
       "    <span style=\"color:gray; font-weight:bold\">scc_at_cost:</span> <span style=\"color:gray\">\"no_cost\"</span>\n",
       "    <span style=\"color:gray; font-weight:bold\">scc_unreal_g_cause:</span> <span style=\"color:gray\">\"price_change\"</span>\n",
       "  <span style=\"color:blue\">Income:Unrealized-Gains:BBB-AAA</span>  <span style=\"color:green\">-50.0</span> <span style=\"color:MediumOrchid\">BBB</span>\n",
       "    <span style=\"color:gray; font-weight:bold\">scc_msg:</span> <span style=\"color:gray\">\"Calculated on the balance of 100 AAA at the beginning of this day (end of prev. day)\"</span>\n",
       "    <span style=\"color:gray; font-weight:bold\">scc_at_cost:</span> <span style=\"color:gray\">\"no_cost\"</span>\n",
       "    <span style=\"color:gray; font-weight:bold\">scc_unreal_g_cause:</span> <span style=\"color:gray\">\"price_change\"</span>\n",
       "    <span style=\"color:gray; font-weight:bold\">scc_bal_s_acc:</span> <span style=\"color:gray\">\"Assets:BankA\"</span>\n",
       "\n",
       "<span style=\"color:green\">2020-01-04</span> * <span style=\"color:brown\">\"Buying something with AAA\"</span>\n",
       "  <span style=\"color:blue\">Assets:BankA </span>  <span style=\"color:green\">-75.0</span> <span style=\"color:MediumOrchid\">BBB</span>\n",
       "    <span style=\"color:gray; font-weight:bold\">scc_msg:</span> <span style=\"color:gray\">\"Converted from -50 AAA\"</span>\n",
       "  <span style=\"color:blue\">Expenses:Misc</span>   <span style=\"color:green\">75.0</span> <span style=\"color:MediumOrchid\">BBB</span>\n",
       "    <span style=\"color:gray; font-weight:bold\">scc_msg:</span> <span style=\"color:gray\">\"Converted from 50 AAA\"</span>\n",
       "\n",
       "<span style=\"color:green\">2020-01-04</span> * <span style=\"color:brown\">\"Buying something with CCC\"</span>\n",
       "  <span style=\"color:blue\">Assets:BankC </span>  <span style=\"color:green\">-50</span> <span style=\"color:MediumOrchid\">CCC</span>\n",
       "  <span style=\"color:blue\">Expenses:Misc</span>   <span style=\"color:green\">50</span> <span style=\"color:MediumOrchid\">CCC</span>\n",
       "\n",
       "<span style=\"color:green\">2020-02-05</span> price <span style=\"color:MediumOrchid\">AAA</span>                                   <span style=\"color:green\">2.0</span> <span style=\"color:MediumOrchid\">BBB</span>\n",
       "\n",
       "<span style=\"color:green\">2020-02-05</span> * <span style=\"color:brown\">\"Unrealized gains due to AAA price change from 1.5 to 2.0 BBB (BBB price change from 0.6666666666666666666666666667 to 0.5 AAA)\"</span>\n",
       "  <span style=\"color:gray; font-weight:bold\">scc_msg:</span> <span style=\"color:gray\">\"Created by the Single Currency Converter\"</span>\n",
       "  <span style=\"color:blue\">Assets:BankA                   </span>   <span style=\"color:green\">25.0</span> <span style=\"color:MediumOrchid\">BBB</span>\n",
       "    <span style=\"color:gray; font-weight:bold\">scc_msg:</span> <span style=\"color:gray\">\"Calculated on the balance of 50 AAA at the beginning of this day (end of prev. day)\"</span>\n",
       "    <span style=\"color:gray; font-weight:bold\">scc_at_cost:</span> <span style=\"color:gray\">\"no_cost\"</span>\n",
       "    <span style=\"color:gray; font-weight:bold\">scc_unreal_g_cause:</span> <span style=\"color:gray\">\"price_change\"</span>\n",
       "  <span style=\"color:blue\">Income:Unrealized-Gains:BBB-AAA</span>  <span style=\"color:green\">-25.0</span> <span style=\"color:MediumOrchid\">BBB</span>\n",
       "    <span style=\"color:gray; font-weight:bold\">scc_msg:</span> <span style=\"color:gray\">\"Calculated on the balance of 50 AAA at the beginning of this day (end of prev. day)\"</span>\n",
       "    <span style=\"color:gray; font-weight:bold\">scc_at_cost:</span> <span style=\"color:gray\">\"no_cost\"</span>\n",
       "    <span style=\"color:gray; font-weight:bold\">scc_unreal_g_cause:</span> <span style=\"color:gray\">\"price_change\"</span>\n",
       "    <span style=\"color:gray; font-weight:bold\">scc_bal_s_acc:</span> <span style=\"color:gray\">\"Assets:BankA\"</span>\n",
       "\n",
       "</pre>\n",
       "</body>\n",
       "</html>"
      ],
      "text/plain": [
       "<evbeantools.printer_rich.display_entries.<locals>.DisplayableObject at 0x217582e0710>"
      ]
     },
     "execution_count": 11,
     "metadata": {},
     "output_type": "execute_result"
    }
   ],
   "source": [
    "ledger_unconvertable_curr = \"\"\"\n",
    "option \"operating_currency\" \"BBB\" \n",
    "\n",
    "2020-01-01 open Assets:BankA\n",
    "2020-01-01 open Assets:BankC\n",
    "2020-01-01 open Equity:Opening-Balances\n",
    "2020-01-01 open Expenses:Misc\n",
    "\n",
    "2020-01-01 price AAA 1.0 BBB \n",
    "\n",
    "2020-01-01 * \"Opening Balance\"\n",
    "    Assets:BankA                100 AAA\n",
    "    Equity:Opening-Balances    -100 AAA\n",
    "    Assets:BankC                100 CCC\n",
    "    Equity:Opening-Balances    -100 CCC\n",
    "\n",
    "2020-01-03 price AAA 1.5 BBB\n",
    "\n",
    "2020-01-04 * \"Buying something with AAA\"\n",
    "    Assets:BankA              -50 AAA\n",
    "    Expenses:Misc              50 AAA\n",
    "    \n",
    "2020-01-04 * \"Buying something with CCC\"\n",
    "    Assets:BankC              -50 CCC\n",
    "    Expenses:Misc              50 CCC\n",
    "    \n",
    "    \n",
    "2020-02-05 price AAA 2.0 BBB\n",
    "\"\"\"\n",
    "\n",
    "display_scc_converted(ledger_unconvertable_curr)"
   ]
  },
  {
   "cell_type": "markdown",
   "metadata": {},
   "source": [
    "Observe, that SCC has successfully handled such situation. The convertable commodity AAA is converted to the target currency BBB, the unconvertable commodity CCC remains unconvertable. The fact, that there are unconvertable commodities will not prevent a correct Net Worth Change analisys using the with beanquery, provided the following conditions are met:\n",
    " - unconvertable commodity shall remain unconvertable for the duration of the entire period being analyzed. In another words no **price** directive shall be introduced in the middle of the period being analyzed to provide an exchange rate between the previously  unconvertable commodity and a target commodity.\n",
    "  \n",
    " - there should not be any conversions between unconvertable and convertable commodity withing the period being analyzed"
   ]
  },
  {
   "cell_type": "markdown",
   "metadata": {},
   "source": [
    "#### <a id='toc1_2_5_1_'></a>[Usage of the \"start_date\" and \"end_date\" options](#toc0_)\n",
    "\n",
    "Let us look at the previous example, but we will add a new **price** directive, which now provides an exchange rate information between the commodity CCC and BBB, but not at the very 1st date of our ledger. In another words the commodity CCC becomes convertable, but only somewhere in the middle of our financial history"
   ]
  },
  {
   "cell_type": "code",
   "execution_count": 12,
   "metadata": {},
   "outputs": [
    {
     "name": "stdout",
     "output_type": "stream",
     "text": [
      "An exception caught, while running the 'get_equiv_sing_curr_entries':\n",
      " \n",
      "Problem is detected in provided beancount ledger.\n",
      "There is a price entry for the commodity CCC vs BBB on the date 2020-01-04,\n",
      "This commodity has been detected as unconvertable to the commodity BBB in the past.\n",
      "Such situation is not allowed, as it would not allow to perform correct conversion of ledger to BBB\n"
     ]
    }
   ],
   "source": [
    "ledger_unconvertable_curr_becomes_convertable = \"\"\"\n",
    "\n",
    "option \"operating_currency\" \"BBB\" \n",
    "\n",
    "2020-01-01 open Assets:BankA\n",
    "2020-01-01 open Assets:BankC\n",
    "2020-01-01 open Equity:Opening-Balances\n",
    "2020-01-01 open Expenses:Misc\n",
    "\n",
    "2020-01-01 price AAA 1.0 BBB \n",
    "\n",
    "2020-01-01 * \"Opening Balance\"\n",
    "    Assets:BankA                100 AAA\n",
    "    Equity:Opening-Balances    -100 AAA\n",
    "    Assets:BankC                100 CCC\n",
    "    Equity:Opening-Balances    -100 CCC\n",
    "\n",
    "2020-01-03 price AAA 1.5 BBB\n",
    "\n",
    "2020-01-04 price CCC 1.0 BBB ; <== now we can convert CCC to BBB, but only starting from this date\n",
    "\n",
    "2020-01-04 * \"Buying something with AAA\"\n",
    "    Assets:BankA              -50 AAA\n",
    "    Expenses:Misc              50 AAA\n",
    "    \n",
    "2020-01-04 * \"Buying something with CCC\"\n",
    "    Assets:BankC              -50 CCC\n",
    "    Expenses:Misc              50 CCC\n",
    "    \n",
    "    \n",
    "2020-02-05 price AAA 2.0 BBB\n",
    "\"\"\"\n",
    "display_scc_converted(ledger_unconvertable_curr_becomes_convertable)\n"
   ]
  },
  {
   "cell_type": "markdown",
   "metadata": {},
   "source": [
    "The SCC has raised an exception in this case. This is because the rule is violated, that whilst it is OK to have unconvertable commodity in the ledger, such unconvertable commodity shall remain unconvertable for the entire period being analyzed. Note, that this is not the limitation of the SCC tool, but a logical limitation of the data, provided to it. If this rule is not followed, it will not be possible to perform the Net Worth Change Analysis.  \n",
    "\n",
    "To fix this situation one can either add a price directive with the date the same or earlier, than the 1st transaction or to run conversion for the reduced date range, by specifying the **start_date** parameter.\n",
    "\n",
    "Let us specify the **start_date** parameter."
   ]
  },
  {
   "cell_type": "code",
   "execution_count": 13,
   "metadata": {},
   "outputs": [
    {
     "data": {
      "text/html": [
       "<!DOCTYPE html>\n",
       "<html lang=\"en\">\n",
       "\n",
       "<head>\n",
       "    <meta charset=\"UTF-8\">\n",
       "    </head>\n",
       "\n",
       "<body>\n",
       "<pre>\n",
       "<span style=\"color:green\">2020-01-01</span> open <span style=\"color:blue\">Assets:BankA                                   </span> <span style=\"color:MediumOrchid\"></span>\n",
       "<span style=\"color:green\">2020-01-01</span> open <span style=\"color:blue\">Assets:BankC                                   </span> <span style=\"color:MediumOrchid\"></span>\n",
       "<span style=\"color:green\">2020-01-01</span> open <span style=\"color:blue\">Equity:Opening-Balances                        </span> <span style=\"color:MediumOrchid\"></span>\n",
       "<span style=\"color:green\">2020-01-01</span> open <span style=\"color:blue\">Expenses:Misc                                  </span> <span style=\"color:MediumOrchid\"></span>\n",
       "\n",
       "<span style=\"color:green\">2020-01-01</span> price <span style=\"color:MediumOrchid\">AAA</span>                                   <span style=\"color:green\">1.0</span> <span style=\"color:MediumOrchid\">BBB</span>\n",
       "<span style=\"color:green\">2020-01-03</span> price <span style=\"color:MediumOrchid\">AAA</span>                                   <span style=\"color:green\">1.5</span> <span style=\"color:MediumOrchid\">BBB</span>\n",
       "\n",
       "<span style=\"color:green\">2020-01-04</span> open <span style=\"color:blue\">Equity:OpeningBalances                         </span> <span style=\"color:MediumOrchid\"></span>\n",
       "\n",
       "<span style=\"color:green\">2020-01-04</span> price <span style=\"color:MediumOrchid\">CCC</span>                                   <span style=\"color:green\">1.0</span> <span style=\"color:MediumOrchid\">BBB</span>\n",
       "\n",
       "<span style=\"color:green\">2020-01-04</span> * <span style=\"color:brown\">\"Opening balance single currency transaction, equivalent to the Balance Sheet status on that date\"</span>\n",
       "  <span style=\"color:gray; font-weight:bold\">scc_msg:</span> <span style=\"color:gray\">\"Created by the Single Currency Converter\"</span>\n",
       "  <span style=\"color:blue\">Equity:OpeningBalances</span>  <span style=\"color:green\">-125.0</span> <span style=\"color:MediumOrchid\">BBB</span>\n",
       "  <span style=\"color:blue\">Assets:BankA          </span>    <span style=\"color:green\">75.0</span> <span style=\"color:MediumOrchid\">BBB</span>\n",
       "    <span style=\"color:gray; font-weight:bold\">scc_msg:</span> <span style=\"color:gray\">\"Balance in original currency (50 AAA)\"</span>\n",
       "  <span style=\"color:blue\">Assets:BankC          </span>    <span style=\"color:green\">50.0</span> <span style=\"color:MediumOrchid\">BBB</span>\n",
       "    <span style=\"color:gray; font-weight:bold\">scc_msg:</span> <span style=\"color:gray\">\"Balance in original currency (50 CCC)\"</span>\n",
       "\n",
       "<span style=\"color:green\">2020-02-05</span> open <span style=\"color:blue\">Income:Unrealized-Gains:BBB-AAA                </span> <span style=\"color:MediumOrchid\"></span>\n",
       "\n",
       "<span style=\"color:green\">2020-02-05</span> price <span style=\"color:MediumOrchid\">AAA</span>                                   <span style=\"color:green\">2.0</span> <span style=\"color:MediumOrchid\">BBB</span>\n",
       "\n",
       "<span style=\"color:green\">2020-02-05</span> * <span style=\"color:brown\">\"Unrealized gains due to AAA price change from 1.5 to 2.0 BBB (BBB price change from 0.6666666666666666666666666667 to 0.5 AAA)\"</span>\n",
       "  <span style=\"color:gray; font-weight:bold\">scc_msg:</span> <span style=\"color:gray\">\"Created by the Single Currency Converter\"</span>\n",
       "  <span style=\"color:blue\">Assets:BankA                   </span>   <span style=\"color:green\">25.0</span> <span style=\"color:MediumOrchid\">BBB</span>\n",
       "    <span style=\"color:gray; font-weight:bold\">scc_msg:</span> <span style=\"color:gray\">\"Calculated on the balance of 50 AAA at the beginning of this day (end of prev. day)\"</span>\n",
       "    <span style=\"color:gray; font-weight:bold\">scc_at_cost:</span> <span style=\"color:gray\">\"no_cost\"</span>\n",
       "    <span style=\"color:gray; font-weight:bold\">scc_unreal_g_cause:</span> <span style=\"color:gray\">\"price_change\"</span>\n",
       "  <span style=\"color:blue\">Income:Unrealized-Gains:BBB-AAA</span>  <span style=\"color:green\">-25.0</span> <span style=\"color:MediumOrchid\">BBB</span>\n",
       "    <span style=\"color:gray; font-weight:bold\">scc_msg:</span> <span style=\"color:gray\">\"Calculated on the balance of 50 AAA at the beginning of this day (end of prev. day)\"</span>\n",
       "    <span style=\"color:gray; font-weight:bold\">scc_at_cost:</span> <span style=\"color:gray\">\"no_cost\"</span>\n",
       "    <span style=\"color:gray; font-weight:bold\">scc_unreal_g_cause:</span> <span style=\"color:gray\">\"price_change\"</span>\n",
       "    <span style=\"color:gray; font-weight:bold\">scc_bal_s_acc:</span> <span style=\"color:gray\">\"Assets:BankA\"</span>\n",
       "\n",
       "</pre>\n",
       "</body>\n",
       "</html>"
      ],
      "text/plain": [
       "<evbeantools.printer_rich.display_entries.<locals>.DisplayableObject at 0x21757ce1c70>"
      ]
     },
     "execution_count": 13,
     "metadata": {},
     "output_type": "execute_result"
    }
   ],
   "source": [
    "display_scc_converted(ledger_unconvertable_curr_becomes_convertable, start_date=\"2020-01-05\")"
   ]
  },
  {
   "cell_type": "markdown",
   "metadata": {},
   "source": [
    "Observe, that the SCC has created the transaction *\"Opening balance single currency transaction, equivalent to the Balance Sheet status on that date\"*, at the date, previous to the specified **start_date**. This transaction compresses all previous transactions into a single one and converts all this to a single currency. Such ledger will still allow to do execute an unrealized gains analysis using beanquery in the reduced period from the **start_date**  until the end of the ledger.\n",
    "\n",
    "Alternatively we can specify the **end_date**."
   ]
  },
  {
   "cell_type": "code",
   "execution_count": 14,
   "metadata": {},
   "outputs": [
    {
     "data": {
      "text/html": [
       "<!DOCTYPE html>\n",
       "<html lang=\"en\">\n",
       "\n",
       "<head>\n",
       "    <meta charset=\"UTF-8\">\n",
       "    </head>\n",
       "\n",
       "<body>\n",
       "<pre>\n",
       "<span style=\"color:green\">2020-01-01</span> open <span style=\"color:blue\">Assets:BankA                                   </span> <span style=\"color:MediumOrchid\"></span>\n",
       "<span style=\"color:green\">2020-01-01</span> open <span style=\"color:blue\">Assets:BankC                                   </span> <span style=\"color:MediumOrchid\"></span>\n",
       "<span style=\"color:green\">2020-01-01</span> open <span style=\"color:blue\">Equity:Opening-Balances                        </span> <span style=\"color:MediumOrchid\"></span>\n",
       "<span style=\"color:green\">2020-01-01</span> open <span style=\"color:blue\">Expenses:Misc                                  </span> <span style=\"color:MediumOrchid\"></span>\n",
       "\n",
       "<span style=\"color:green\">2020-01-01</span> price <span style=\"color:MediumOrchid\">AAA</span>                                   <span style=\"color:green\">1.0</span> <span style=\"color:MediumOrchid\">BBB</span>\n",
       "\n",
       "<span style=\"color:green\">2020-01-01</span> * <span style=\"color:brown\">\"Opening Balance\"</span>\n",
       "  <span style=\"color:blue\">Assets:BankA           </span>   <span style=\"color:green\">100.0</span> <span style=\"color:MediumOrchid\">BBB</span>\n",
       "    <span style=\"color:gray; font-weight:bold\">scc_msg:</span> <span style=\"color:gray\">\"Converted from 100 AAA\"</span>\n",
       "  <span style=\"color:blue\">Equity:Opening-Balances</span>  <span style=\"color:green\">-100.0</span> <span style=\"color:MediumOrchid\">BBB</span>\n",
       "    <span style=\"color:gray; font-weight:bold\">scc_msg:</span> <span style=\"color:gray\">\"Converted from -100 AAA\"</span>\n",
       "  <span style=\"color:blue\">Assets:BankC           </span>     <span style=\"color:green\">100</span> <span style=\"color:MediumOrchid\">CCC</span>\n",
       "  <span style=\"color:blue\">Equity:Opening-Balances</span>    <span style=\"color:green\">-100</span> <span style=\"color:MediumOrchid\">CCC</span>\n",
       "\n",
       "<span style=\"color:green\">2020-01-03</span> open <span style=\"color:blue\">Income:Unrealized-Gains:BBB-AAA                </span> <span style=\"color:MediumOrchid\"></span>\n",
       "\n",
       "<span style=\"color:green\">2020-01-03</span> price <span style=\"color:MediumOrchid\">AAA</span>                                   <span style=\"color:green\">1.5</span> <span style=\"color:MediumOrchid\">BBB</span>\n",
       "\n",
       "<span style=\"color:green\">2020-01-03</span> * <span style=\"color:brown\">\"Unrealized gains due to AAA price change from 1.0 to 1.5 BBB (BBB price change from 1 to 0.6666666666666666666666666667 AAA)\"</span>\n",
       "  <span style=\"color:gray; font-weight:bold\">scc_msg:</span> <span style=\"color:gray\">\"Created by the Single Currency Converter\"</span>\n",
       "  <span style=\"color:blue\">Assets:BankA                   </span>   <span style=\"color:green\">50.0</span> <span style=\"color:MediumOrchid\">BBB</span>\n",
       "    <span style=\"color:gray; font-weight:bold\">scc_msg:</span> <span style=\"color:gray\">\"Calculated on the balance of 100 AAA at the beginning of this day (end of prev. day)\"</span>\n",
       "    <span style=\"color:gray; font-weight:bold\">scc_at_cost:</span> <span style=\"color:gray\">\"no_cost\"</span>\n",
       "    <span style=\"color:gray; font-weight:bold\">scc_unreal_g_cause:</span> <span style=\"color:gray\">\"price_change\"</span>\n",
       "  <span style=\"color:blue\">Income:Unrealized-Gains:BBB-AAA</span>  <span style=\"color:green\">-50.0</span> <span style=\"color:MediumOrchid\">BBB</span>\n",
       "    <span style=\"color:gray; font-weight:bold\">scc_msg:</span> <span style=\"color:gray\">\"Calculated on the balance of 100 AAA at the beginning of this day (end of prev. day)\"</span>\n",
       "    <span style=\"color:gray; font-weight:bold\">scc_at_cost:</span> <span style=\"color:gray\">\"no_cost\"</span>\n",
       "    <span style=\"color:gray; font-weight:bold\">scc_unreal_g_cause:</span> <span style=\"color:gray\">\"price_change\"</span>\n",
       "    <span style=\"color:gray; font-weight:bold\">scc_bal_s_acc:</span> <span style=\"color:gray\">\"Assets:BankA\"</span>\n",
       "\n",
       "</pre>\n",
       "</body>\n",
       "</html>"
      ],
      "text/plain": [
       "<evbeantools.printer_rich.display_entries.<locals>.DisplayableObject at 0x217582e0110>"
      ]
     },
     "execution_count": 14,
     "metadata": {},
     "output_type": "execute_result"
    }
   ],
   "source": [
    "display_scc_converted(ledger_unconvertable_curr_becomes_convertable, end_date=\"2020-01-03\")"
   ]
  },
  {
   "cell_type": "markdown",
   "metadata": {},
   "source": [
    "Note, that specifying the **end_date** makes the SCC to drop everything after it, thus still allowing to do the unrealized gain analysis in the period until including the **end_date**"
   ]
  },
  {
   "cell_type": "markdown",
   "metadata": {},
   "source": [
    "### <a id='toc1_2_6_'></a>[Small value Balance error correction posting](#toc0_)"
   ]
  },
  {
   "cell_type": "markdown",
   "metadata": {},
   "source": [
    "Sometimes (the exact scenario is still to be understood) the converted transaction does not balance with the very small value error.  Probably this is a part of the known beancount issue, which [has been discussed on the discussion group](https://groups.google.com/g/beancount/c/F6rc8QgTNEY/m/6X96jbslAAAJ). \n",
    "For now the **sing_curr_conv** detects such errors using the identical code as the original beancount does and then inserts a correction posting, which (for a lack of a better choice) is booked to the account **Income:Unrealized-Gains:\\<Target Currency>-\\<Target Currency>**\n",
    "\n",
    "Example:"
   ]
  },
  {
   "cell_type": "code",
   "execution_count": 15,
   "metadata": {},
   "outputs": [
    {
     "data": {
      "text/html": [
       "<!DOCTYPE html>\n",
       "<html lang=\"en\">\n",
       "\n",
       "<head>\n",
       "    <meta charset=\"UTF-8\">\n",
       "    </head>\n",
       "\n",
       "<body>\n",
       "<pre>\n",
       "<span style=\"color:green\">2020-01-01</span> open <span style=\"color:blue\">Income:Unrealized-Gains:YYY-YYY                </span> <span style=\"color:MediumOrchid\"></span>\n",
       "<span style=\"color:green\">2020-01-01</span> open <span style=\"color:blue\">Expenses:Misc1                                 </span> <span style=\"color:MediumOrchid\"></span>\n",
       "<span style=\"color:green\">2020-01-01</span> open <span style=\"color:blue\">Expenses:Misc2                                 </span> <span style=\"color:MediumOrchid\"></span>\n",
       "<span style=\"color:green\">2020-01-01</span> open <span style=\"color:blue\">Assets:Bank                                    </span> <span style=\"color:MediumOrchid\"></span>\n",
       "\n",
       "<span style=\"color:green\">2020-01-01</span> price <span style=\"color:MediumOrchid\">YYY</span>                            <span style=\"color:green\">92.9107970</span> <span style=\"color:MediumOrchid\">XXX</span>\n",
       "\n",
       "<span style=\"color:green\">2020-01-01</span> * <span style=\"color:brown\">\"Buying something\"</span>\n",
       "  <span style=\"color:blue\">Expenses:Misc1                 </span>   <span style=\"color:green\">32.28903525604241668489831167</span> <span style=\"color:MediumOrchid\">YYY</span>\n",
       "    <span style=\"color:gray; font-weight:bold\">scc_msg:</span> <span style=\"color:gray\">\"Converted from 3000.00 XXX\"</span>\n",
       "  <span style=\"color:blue\">Expenses:Misc2                 </span>   <span style=\"color:green\">178.3431047308742814895883415</span> <span style=\"color:MediumOrchid\">YYY</span>\n",
       "    <span style=\"color:gray; font-weight:bold\">scc_msg:</span> <span style=\"color:gray\">\"Converted from 16570.00 XXX\"</span>\n",
       "  <span style=\"color:blue\">Assets:Bank                    </span>  <span style=\"color:green\">-210.6321399869166981744866531</span> <span style=\"color:MediumOrchid\">YYY</span>\n",
       "    <span style=\"color:gray; font-weight:bold\">scc_msg:</span> <span style=\"color:gray\">\"Converted from -19570.00 XXX\"</span>\n",
       "  <span style=\"color:blue\">Income:Unrealized-Gains:YYY-YYY</span>    <span style=\"color:green\">-0.0000000000000000000000001</span> <span style=\"color:MediumOrchid\">YYY</span>\n",
       "    <span style=\"color:gray; font-weight:bold\">scc_msg:</span> <span style=\"color:gray\">\"Balance error correction posting\"</span>\n",
       "\n",
       "</pre>\n",
       "</body>\n",
       "</html>"
      ],
      "text/plain": [
       "<evbeantools.printer_rich.display_entries.<locals>.DisplayableObject at 0x217577c0770>"
      ]
     },
     "execution_count": 15,
     "metadata": {},
     "output_type": "execute_result"
    }
   ],
   "source": [
    "ledger_small_value_balance_error = \"\"\"\n",
    "\n",
    "option \"operating_currency\" \"YYY\"\n",
    "\n",
    "2020-01-01 open Expenses:Misc1\n",
    "2020-01-01 open Expenses:Misc2\n",
    "2020-01-01 open Assets:Bank\n",
    "\n",
    "\n",
    "2020-01-01 price YYY          92.9107970 XXX\n",
    "\n",
    "2020-01-01 * \"Buying something\"\n",
    "    Expenses:Misc1             3000.00 XXX\n",
    "    Expenses:Misc2             16570.00 XXX\n",
    "    Assets:Bank               -19570.00 XXX\n",
    "\"\"\"\n",
    "display_scc_converted(ledger_small_value_balance_error)"
   ]
  },
  {
   "cell_type": "markdown",
   "metadata": {},
   "source": [
    "One can see, that here a correction posting has to be booked\n",
    "\n",
    "`Income:Unrealized-Gains:YYY-YYY    -0.0000000000000000000000001 YYY`"
   ]
  }
 ],
 "metadata": {
  "kernelspec": {
   "display_name": "Python 3",
   "language": "python",
   "name": "python3"
  },
  "language_info": {
   "codemirror_mode": {
    "name": "ipython",
    "version": 3
   },
   "file_extension": ".py",
   "mimetype": "text/x-python",
   "name": "python",
   "nbconvert_exporter": "python",
   "pygments_lexer": "ipython3",
   "version": "3.12.7"
  }
 },
 "nbformat": 4,
 "nbformat_minor": 2
}
